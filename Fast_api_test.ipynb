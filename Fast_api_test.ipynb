{
 "cells": [
  {
   "cell_type": "code",
   "execution_count": 7,
   "metadata": {},
   "outputs": [],
   "source": [
    "from fastapi import FastAPI\n",
    "from typing import Optional # Импортируем Optional\n"
   ]
  },
  {
   "cell_type": "code",
   "execution_count": 3,
   "metadata": {},
   "outputs": [],
   "source": [
    "# Создаем экземпляр приложения FastAPI\n",
    "app = FastAPI()"
   ]
  },
  {
   "cell_type": "code",
   "execution_count": 4,
   "metadata": {},
   "outputs": [],
   "source": [
    "# Определяем первый маршрут (endpoint)\n",
    "@app.get(\"/\")\n",
    "def read_root():\n",
    "    \"\"\"\n",
    "    Возвращает простое сообщение при обращении к корневому URL.\n",
    "    \"\"\"\n",
    "    return {\"message\": \"Привет, мир! Это мой первый FastAPI API.\"}"
   ]
  },
  {
   "cell_type": "code",
   "execution_count": 8,
   "metadata": {},
   "outputs": [],
   "source": [
    "@app.get(\"/items/{item_id}\")\n",
    "def read_item(item_id: int, query_param: Optional[str] = None): # Изменено здесь\n",
    "    \"\"\"\n",
    "    Возвращает информацию о предмете по его ID.\n",
    "    Принимает опциональный параметр запроса.\n",
    "    \"\"\"\n",
    "    if query_param:\n",
    "        return {\"item_id\": item_id, \"query_param\": query_param}\n",
    "    return {\"item_id\": item_id}"
   ]
  },
  {
   "cell_type": "code",
   "execution_count": null,
   "metadata": {},
   "outputs": [],
   "source": []
  }
 ],
 "metadata": {
  "kernelspec": {
   "display_name": "Python 3",
   "language": "python",
   "name": "python3"
  },
  "language_info": {
   "codemirror_mode": {
    "name": "ipython",
    "version": 3
   },
   "file_extension": ".py",
   "mimetype": "text/x-python",
   "name": "python",
   "nbconvert_exporter": "python",
   "pygments_lexer": "ipython3",
   "version": "3.9.6"
  }
 },
 "nbformat": 4,
 "nbformat_minor": 2
}
